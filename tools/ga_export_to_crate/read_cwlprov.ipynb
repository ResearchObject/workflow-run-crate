{
 "cells": [
  {
   "cell_type": "code",
   "execution_count": 1,
   "id": "e1bd575c",
   "metadata": {},
   "outputs": [],
   "source": [
    "from pathlib import Path\n",
    "import rdflib\n",
    "from prov.serializers.provxml import ProvXMLSerializer"
   ]
  },
  {
   "cell_type": "code",
   "execution_count": 2,
   "id": "ace34cc1",
   "metadata": {},
   "outputs": [],
   "source": [
    "#!git clone https://github.com/common-workflow-language/cwlprov\n",
    "prov_dir = Path(\"cwlprov\") / \"examples\" / \"revsort-run-1\" / \"metadata\" / \"provenance\""
   ]
  },
  {
   "cell_type": "markdown",
   "id": "5f16227e",
   "metadata": {},
   "source": [
    "The RDF serialization should be the easiest to query with SPARQL"
   ]
  },
  {
   "cell_type": "code",
   "execution_count": 3,
   "id": "1ec75415",
   "metadata": {},
   "outputs": [
    {
     "name": "stdout",
     "output_type": "stream",
     "text": [
      "(rdflib.term.URIRef('urn:uuid:1f767ad4-ac52-4623-b5bc-dd9faf2b869f'),)\n"
     ]
    }
   ],
   "source": [
    "prov_path = prov_dir / \"primary.cwlprov.nt\"\n",
    "g = rdflib.Graph()\n",
    "g.bind(\"wfprov\", \"http://purl.org/wf4ever/wfprov#\")\n",
    "g.parse(prov_path)\n",
    "query = \"\"\"\\\n",
    "SELECT ?run\n",
    "WHERE {\n",
    "  ?run a wfprov:WorkflowRun .\n",
    "}\n",
    "\"\"\"\n",
    "res = g.query(query)\n",
    "for row in res:\n",
    "    print(row)"
   ]
  },
  {
   "cell_type": "markdown",
   "id": "afd7addd",
   "metadata": {},
   "source": [
    "We'd like to extend the query to find out when the workflow run started and ended. This information is available through `was{Started,Ended}By` (with `WorkflowEngine` as the subject), but it's not included in the RDF serialization. It is included in the XML file, but querying that with the `prov` library is more contrived. For instance, to find the `WorkflowRun`:"
   ]
  },
  {
   "cell_type": "code",
   "execution_count": 4,
   "id": "4f1b3578",
   "metadata": {},
   "outputs": [
    {
     "name": "stdout",
     "output_type": "stream",
     "text": [
      "activity(id:1f767ad4-ac52-4623-b5bc-dd9faf2b869f, 2018-10-25T15:46:35.211026, -, [prov:label=\"Run of workflow/packed.cwl#main\", prov:type='wfprov:WorkflowRun'])\n"
     ]
    }
   ],
   "source": [
    "from prov.serializers.provxml import ProvXMLSerializer\n",
    "\n",
    "WFPROV = \"http://purl.org/wf4ever/wfprov#\"\n",
    "PROV = \"http://www.w3.org/ns/prov#\"\n",
    "prov_path = prov_dir / \"primary.cwlprov.xml\"\n",
    "with open(prov_path) as f:\n",
    "    doc = ProvXMLSerializer().deserialize(f)\n",
    "for r in doc.get_records():\n",
    "    for k, v in r.attributes:\n",
    "        if k.uri == f\"{PROV}type\" and v.uri == f\"{WFPROV}WorkflowRun\":\n",
    "            print(r)"
   ]
  }
 ],
 "metadata": {
  "kernelspec": {
   "display_name": "Python 3 (ipykernel)",
   "language": "python",
   "name": "python3"
  },
  "language_info": {
   "codemirror_mode": {
    "name": "ipython",
    "version": 3
   },
   "file_extension": ".py",
   "mimetype": "text/x-python",
   "name": "python",
   "nbconvert_exporter": "python",
   "pygments_lexer": "ipython3",
   "version": "3.8.10"
  }
 },
 "nbformat": 4,
 "nbformat_minor": 5
}
